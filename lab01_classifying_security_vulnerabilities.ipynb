{
  "nbformat": 4,
  "nbformat_minor": 0,
  "metadata": {
    "colab": {
      "name": "dcc-ufmg2021-lab01-classifying-security-vulnerabilities",
      "provenance": [],
      "collapsed_sections": [],
      "toc_visible": true,
      "include_colab_link": true
    },
    "kernelspec": {
      "name": "python3",
      "display_name": "Python 3"
    }
  },
  "cells": [
    {
      "cell_type": "markdown",
      "metadata": {
        "id": "view-in-github",
        "colab_type": "text"
      },
      "source": [
        "<a href=\"https://colab.research.google.com/github/luisdiasbh/ufmg-dcc-ciberseguranca-2021/blob/main/lab01_classifying_security_vulnerabilities.ipynb\" target=\"_parent\"><img src=\"https://colab.research.google.com/assets/colab-badge.svg\" alt=\"Open In Colab\"/></a>"
      ]
    },
    {
      "cell_type": "markdown",
      "metadata": {
        "id": "eJR4wAxyEbnA"
      },
      "source": [
        "# Classifying Security Vulnerabilities"
      ]
    },
    {
      "cell_type": "markdown",
      "metadata": {
        "id": "s2OEnyM5SshI"
      },
      "source": [
        "Grupo 3"
      ]
    },
    {
      "cell_type": "markdown",
      "metadata": {
        "id": "zqCnU48R9UiG"
      },
      "source": [
        "# Exercise\n",
        "\n",
        "Now let's train a classifier to classify security vulnerabilities according to their CVSS severity class. The dataset provided below contains the CVSS features and severity for all of the vulnerabilities reported in 2020. The vulnerabilities are separated in four severity classes:\n",
        "\n",
        "- 0 = 'LOW'\n",
        "- 1 = 'MIDDLE'\n",
        "- 2 = 'HIGH'\n",
        "- 3 = 'CRITICAL'\n"
      ]
    },
    {
      "cell_type": "code",
      "metadata": {
        "id": "akhYjbBHBIf6"
      },
      "source": [
        "# Download the dataset\n",
        "!wget \"https://homepages.dcc.ufmg.br/~arturluis/202ds/2020cvss.csv\" --no-check-certificate -nc"
      ],
      "execution_count": null,
      "outputs": []
    },
    {
      "cell_type": "code",
      "metadata": {
        "colab": {
          "base_uri": "https://localhost:8080/",
          "height": 200
        },
        "id": "4gwkqIlRy5ch",
        "outputId": "2007a647-352f-4eb6-d67b-70fa4e97a4ee"
      },
      "source": [
        "# Read it and print the first five rows\n",
        "import pandas as pd\n",
        "cvss_data = pd.read_csv('2020cvss.csv')\n",
        "cvss_data.iloc[0:5]"
      ],
      "execution_count": 2,
      "outputs": [
        {
          "output_type": "execute_result",
          "data": {
            "text/html": [
              "<div>\n",
              "<style scoped>\n",
              "    .dataframe tbody tr th:only-of-type {\n",
              "        vertical-align: middle;\n",
              "    }\n",
              "\n",
              "    .dataframe tbody tr th {\n",
              "        vertical-align: top;\n",
              "    }\n",
              "\n",
              "    .dataframe thead th {\n",
              "        text-align: right;\n",
              "    }\n",
              "</style>\n",
              "<table border=\"1\" class=\"dataframe\">\n",
              "  <thead>\n",
              "    <tr style=\"text-align: right;\">\n",
              "      <th></th>\n",
              "      <th>Unnamed: 0</th>\n",
              "      <th>attackVector</th>\n",
              "      <th>attackComplexity</th>\n",
              "      <th>privilegesRequired</th>\n",
              "      <th>userInteraction</th>\n",
              "      <th>confidentialityImpact</th>\n",
              "      <th>integrityImpact</th>\n",
              "      <th>availabilityImpact</th>\n",
              "      <th>label</th>\n",
              "    </tr>\n",
              "  </thead>\n",
              "  <tbody>\n",
              "    <tr>\n",
              "      <th>0</th>\n",
              "      <td>0</td>\n",
              "      <td>0.55</td>\n",
              "      <td>0.44</td>\n",
              "      <td>0.62</td>\n",
              "      <td>0.85</td>\n",
              "      <td>0.66</td>\n",
              "      <td>0.66</td>\n",
              "      <td>0.66</td>\n",
              "      <td>2</td>\n",
              "    </tr>\n",
              "    <tr>\n",
              "      <th>1</th>\n",
              "      <td>1</td>\n",
              "      <td>0.85</td>\n",
              "      <td>0.44</td>\n",
              "      <td>0.85</td>\n",
              "      <td>0.62</td>\n",
              "      <td>0.66</td>\n",
              "      <td>0.66</td>\n",
              "      <td>0.66</td>\n",
              "      <td>2</td>\n",
              "    </tr>\n",
              "    <tr>\n",
              "      <th>2</th>\n",
              "      <td>2</td>\n",
              "      <td>0.55</td>\n",
              "      <td>0.77</td>\n",
              "      <td>0.62</td>\n",
              "      <td>0.62</td>\n",
              "      <td>0.66</td>\n",
              "      <td>0.66</td>\n",
              "      <td>0.66</td>\n",
              "      <td>1</td>\n",
              "    </tr>\n",
              "    <tr>\n",
              "      <th>3</th>\n",
              "      <td>3</td>\n",
              "      <td>0.55</td>\n",
              "      <td>0.44</td>\n",
              "      <td>0.62</td>\n",
              "      <td>0.85</td>\n",
              "      <td>0.00</td>\n",
              "      <td>0.00</td>\n",
              "      <td>0.66</td>\n",
              "      <td>1</td>\n",
              "    </tr>\n",
              "    <tr>\n",
              "      <th>4</th>\n",
              "      <td>4</td>\n",
              "      <td>0.55</td>\n",
              "      <td>0.44</td>\n",
              "      <td>0.27</td>\n",
              "      <td>0.85</td>\n",
              "      <td>0.66</td>\n",
              "      <td>0.66</td>\n",
              "      <td>0.66</td>\n",
              "      <td>1</td>\n",
              "    </tr>\n",
              "  </tbody>\n",
              "</table>\n",
              "</div>"
            ],
            "text/plain": [
              "   Unnamed: 0  attackVector  ...  availabilityImpact  label\n",
              "0           0          0.55  ...                0.66      2\n",
              "1           1          0.85  ...                0.66      2\n",
              "2           2          0.55  ...                0.66      1\n",
              "3           3          0.55  ...                0.66      1\n",
              "4           4          0.55  ...                0.66      1\n",
              "\n",
              "[5 rows x 9 columns]"
            ]
          },
          "metadata": {},
          "execution_count": 2
        }
      ]
    },
    {
      "cell_type": "markdown",
      "metadata": {
        "id": "K40wLu3-k3dA"
      },
      "source": [
        "In this dataset we have seven features, corresponding to fields used to compute the CVSS score and severity:\n",
        "- Attack Vector\n",
        "- Attack Complexity\n",
        "- Privileges Required\n",
        "- User Interaction\n",
        "- Confidentiality Impact\n",
        "- Integrity Impact\n",
        "- Availability Impact\n",
        "\n",
        "Note that the features in the dataset were converted to a numerical score representation, following the [CVSS score metrics](https://www.first.org/cvss/specification-document). We have to do this conversion because the SVM algorithm expects numbers as input.\n",
        "\n",
        "Now it's your turn, use this dataset to train and evaluate a SVM classifier that learns to classify the severity of a vulnerability based on its CVSS features. The steps for this are outlined in the cell below, we have already split the data into training and test for you, fill the remaining gaps with your code. \n",
        "\n",
        "\n",
        "Important! Before you start, create a copy of this notebook to your google drive and work on your copy.\n",
        "\n",
        "Once you are done, submit your solutions here: https://forms.gle/DDpGDkjNQWFgJvky8\n",
        "\n"
      ]
    },
    {
      "cell_type": "code",
      "metadata": {
        "id": "gCAfilmw2_mj",
        "colab": {
          "base_uri": "https://localhost:8080/"
        },
        "outputId": "9c88b86f-4ad7-488f-c069-ba5bb1cfbf0b"
      },
      "source": [
        "#### Split dataset into training and testing sets\n",
        "from sklearn import model_selection\n",
        "inputs_train, inputs_test, labels_train, labels_test = model_selection.train_test_split(\n",
        "      cvss_data[[\"attackVector\", \"attackComplexity\", \"privilegesRequired\", \"userInteraction\", \"confidentialityImpact\", \"integrityImpact\", \"availabilityImpact\"]].values,\n",
        "      cvss_data['label'].values,\n",
        "      test_size=0.2\n",
        "    )\n",
        "print(\"Training set size:\", inputs_train.shape)\n",
        "print(\"Test set size:\", inputs_test.shape)"
      ],
      "execution_count": 4,
      "outputs": [
        {
          "output_type": "stream",
          "name": "stdout",
          "text": [
            "Training set size: (11452, 7)\n",
            "Test set size: (2863, 7)\n"
          ]
        }
      ]
    },
    {
      "cell_type": "code",
      "metadata": {
        "colab": {
          "base_uri": "https://localhost:8080/"
        },
        "id": "eygIPDVeAjpn",
        "outputId": "4100a6b8-a265-414b-c1a7-d237db1d7e4c"
      },
      "source": [
        "### Fit the SVM classifier\n",
        "from sklearn.svm import SVC\n",
        "\n",
        "# Selecting the classifier we want to use\n",
        "svm = SVC(kernel=\"linear\")\n",
        "\n",
        "# Learning (or training our model) based on inputs and labels from our dataset\n",
        "svm.fit(inputs_train, labels_train)\n"
      ],
      "execution_count": 5,
      "outputs": [
        {
          "output_type": "execute_result",
          "data": {
            "text/plain": [
              "SVC(C=1.0, break_ties=False, cache_size=200, class_weight=None, coef0=0.0,\n",
              "    decision_function_shape='ovr', degree=3, gamma='scale', kernel='linear',\n",
              "    max_iter=-1, probability=False, random_state=None, shrinking=True,\n",
              "    tol=0.001, verbose=False)"
            ]
          },
          "metadata": {},
          "execution_count": 5
        }
      ]
    },
    {
      "cell_type": "code",
      "metadata": {
        "colab": {
          "base_uri": "https://localhost:8080/"
        },
        "id": "2uVES5o4AllO",
        "outputId": "2b502011-a725-469d-cf69-643e81372d12"
      },
      "source": [
        "### Try out your classifier using the vulnerability below:\n",
        "vulnerability = [[0.85, 0.44, 0.27, 0.85, 0.66, 0.  , 0.  ]]\n",
        "\n",
        "# Use our model to predict which class this is\n",
        "vulnerability_class = svm.predict(vulnerability)\n",
        "if vulnerability_class == 0 :    vulnerability_class = 'LOW'\n",
        "elif vulnerability_class == 1 :  vulnerability_class = 'MIDDLE'\n",
        "elif vulnerability_class == 2 :  vulnerability_class = 'HIGH'\n",
        "else :  vulnerability_class = 'CRITICAL'\n",
        "\n",
        "print (vulnerability_class)"
      ],
      "execution_count": 25,
      "outputs": [
        {
          "output_type": "stream",
          "name": "stdout",
          "text": [
            "MIDDLE\n"
          ]
        }
      ]
    },
    {
      "cell_type": "code",
      "metadata": {
        "colab": {
          "base_uri": "https://localhost:8080/"
        },
        "id": "42_8J-i2AoIn",
        "outputId": "c77ebfe7-6f7c-4c14-cfef-e5d25f283648"
      },
      "source": [
        "### Use your classifier to classify the test set\n",
        "classifications = svm.predict(inputs_test)\n",
        "print (classifications[0:10])"
      ],
      "execution_count": 24,
      "outputs": [
        {
          "output_type": "stream",
          "name": "stdout",
          "text": [
            "[3 3 2 2 3 1 1 2 3 2]\n"
          ]
        }
      ]
    },
    {
      "cell_type": "code",
      "metadata": {
        "colab": {
          "base_uri": "https://localhost:8080/"
        },
        "id": "tMWEZ8ICAqWv",
        "outputId": "61c2d005-1ec0-4370-abb7-1219d9ccaa6e"
      },
      "source": [
        "### Compute the final accuracy, precision, and recall on the test set\n",
        "# tip: use sklearn's \"macro\" averaging to compute precision and recall\n",
        "from sklearn.metrics import accuracy_score, precision_score, recall_score\n",
        "\n",
        "print(\"Accuracy:\", '{:0.2f}'.format(accuracy_score(labels_test, classifications)*100))\n",
        "print('Precision:', '{:0.2f}'.format(precision_score(labels_test, classifications, average='macro')))\n",
        "print('Recall:', '{:0.2f}'.format(recall_score(labels_test, classifications, average='macro')))\n"
      ],
      "execution_count": 16,
      "outputs": [
        {
          "output_type": "stream",
          "name": "stdout",
          "text": [
            "Accuracy: 95.04\n",
            "Precision: 0.96\n",
            "Recall: 0.90\n"
          ]
        }
      ]
    },
    {
      "cell_type": "code",
      "metadata": {
        "colab": {
          "base_uri": "https://localhost:8080/"
        },
        "id": "vWFUXv_bAsPQ",
        "outputId": "dff8fde4-9ffe-453c-f5d6-44c82c15d9ca"
      },
      "source": [
        "### Finally, compute the confusion matrix for the testing set\n",
        "from sklearn.metrics import confusion_matrix\n",
        "conf_matrix = confusion_matrix(labels_test, classifications)\n",
        "print (conf_matrix)"
      ],
      "execution_count": 20,
      "outputs": [
        {
          "output_type": "stream",
          "name": "stdout",
          "text": [
            "[[  59   17    0    0]\n",
            " [   3 1126   27    0]\n",
            " [   0   42 1174    0]\n",
            " [   0    0   53  362]]\n"
          ]
        }
      ]
    },
    {
      "cell_type": "code",
      "metadata": {
        "colab": {
          "base_uri": "https://localhost:8080/",
          "height": 530
        },
        "id": "y1P1owOGIWJG",
        "outputId": "564a12fb-689f-4abd-ba81-f47fbea92821"
      },
      "source": [
        "### Print the confusion matrix using Matplotlib\n",
        "import matplotlib.pyplot as plt\n",
        "\n",
        "fig, ax = plt.subplots(figsize=(8, 8))\n",
        "ax.matshow(conf_matrix, cmap=plt.cm.Oranges, alpha=0.3)\n",
        "for i in range(conf_matrix.shape[0]):\n",
        "    for j in range(conf_matrix.shape[1]):\n",
        "        ax.text(x=j, y=i,s=conf_matrix[i, j], va='center', ha='center', size='xx-large')\n",
        " \n",
        "plt.xlabel('Predicted', fontsize=18)\n",
        "plt.ylabel('Actuals', fontsize=18)\n",
        "plt.title('Confusion Matrix', fontsize=18)\n",
        "plt.show()"
      ],
      "execution_count": 21,
      "outputs": [
        {
          "output_type": "display_data",
          "data": {
            "image/png": "[encoded data removed]",
            "text/plain": [
              "<Figure size 576x576 with 1 Axes>"
            ]
          },
          "metadata": {
            "needs_background": "light"
          }
        }
      ]
    },
    {
      "cell_type": "code",
      "metadata": {
        "colab": {
          "base_uri": "https://localhost:8080/"
        },
        "id": "h59FJHJbNFm9",
        "outputId": "c57c0b7a-9660-4b81-dc1d-610825116ec7"
      },
      "source": [
        "from sklearn.metrics import classification_report\n",
        "print(classification_report(labels_test, classifications))"
      ],
      "execution_count": 28,
      "outputs": [
        {
          "output_type": "stream",
          "name": "stdout",
          "text": [
            "              precision    recall  f1-score   support\n",
            "\n",
            "           0       0.95      0.78      0.86        76\n",
            "           1       0.95      0.97      0.96      1156\n",
            "           2       0.94      0.97      0.95      1216\n",
            "           3       1.00      0.87      0.93       415\n",
            "\n",
            "    accuracy                           0.95      2863\n",
            "   macro avg       0.96      0.90      0.92      2863\n",
            "weighted avg       0.95      0.95      0.95      2863\n",
            "\n"
          ]
        }
      ]
    }
  ]
}